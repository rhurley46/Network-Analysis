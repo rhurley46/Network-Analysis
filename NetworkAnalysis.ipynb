{
 "cells": [
  {
   "cell_type": "markdown",
   "metadata": {},
   "source": [
    "# Network Analysis in Python"
   ]
  },
  {
   "cell_type": "markdown",
   "metadata": {},
   "source": [
    "### Introduction to Networks\n",
    "\n",
    "Networks, or graphs as they are commonly referred to as, are important data structures that can provide valuable insight in data science.\n",
    "\n",
    "Networks are a representation of relations between entities, where each entity is referred to as a node, and each node is connected by edges.\n",
    "\n",
    "Many different systems can be conceptualised using networks. For example, transport networks, social networks, crime networks as well as many others.\n",
    "\n",
    "This project aims to visualise and perform some analysis of networks using the networkx package."
   ]
  },
  {
   "cell_type": "markdown",
   "metadata": {},
   "source": [
    "### Methodology"
   ]
  },
  {
   "cell_type": "markdown",
   "metadata": {},
   "source": [
    "First, lets import the modules that will be used in the project."
   ]
  },
  {
   "cell_type": "code",
   "execution_count": 58,
   "metadata": {},
   "outputs": [],
   "source": [
    "import networkx as nx\n",
    "import matplotlib.pyplot as plt\n",
    "import numpy as np"
   ]
  },
  {
   "cell_type": "markdown",
   "metadata": {},
   "source": [
    "Now lets initialise a graph by defining the nodes and edges between nodes.\n",
    "\n",
    "We won't add any weights to the edges for now."
   ]
  },
  {
   "cell_type": "code",
   "execution_count": 64,
   "metadata": {},
   "outputs": [],
   "source": [
    "G=nx.Graph()\n",
    "G.add_nodes_from([\"A\", \"B\", \"C\", \"D\", \"E\", \"F\", \"G\", \"H\"])\n",
    "G.add_edges_from([('A','B'),('A','C'),('B','C'),('C','E'),('C','D'),('D','F'),('F','G'),('F','H')])"
   ]
  },
  {
   "cell_type": "markdown",
   "metadata": {},
   "source": [
    "Let's take a look at the centrality of the graph. This is very useful for finding the most important entities in a network, ones that have the most connections or dependencies.\n",
    "\n",
    "Nodes that occur on many shortest paths between\n",
    "other nodes in the graph have a high betweenness\n",
    "centrality score."
   ]
  },
  {
   "cell_type": "code",
   "execution_count": 66,
   "metadata": {},
   "outputs": [
    {
     "name": "stdout",
     "output_type": "stream",
     "text": [
      "Without weights:  {'A': 0.0, 'B': 0.0, 'C': 0.6666666666666666, 'D': 0.5714285714285714, 'E': 0.0, 'F': 0.5238095238095237, 'G': 0.0, 'H': 0.0}\n"
     ]
    }
   ],
   "source": [
    "betweenValues = nx.betweenness_centrality(G)\n",
    "print(\"Without weights: \", betweenValues)"
   ]
  },
  {
   "cell_type": "markdown",
   "metadata": {},
   "source": [
    "It looks like the most cental point of the graph is node C, followed by D and then F."
   ]
  },
  {
   "cell_type": "markdown",
   "metadata": {},
   "source": [
    "Now, lets see what happens when we add some weights to the graph..."
   ]
  },
  {
   "cell_type": "code",
   "execution_count": 67,
   "metadata": {},
   "outputs": [],
   "source": [
    "G1=nx.Graph()"
   ]
  },
  {
   "cell_type": "code",
   "execution_count": 68,
   "metadata": {},
   "outputs": [],
   "source": [
    "G1.add_nodes_from([\"A\", \"B\", \"C\", \"D\", \"E\", \"F\", \"G\", \"H\"])"
   ]
  },
  {
   "cell_type": "code",
   "execution_count": 69,
   "metadata": {},
   "outputs": [],
   "source": [
    "G1.add_weighted_edges_from([('A','B',3.0),('A','C', 2.0),('B','C', 1.0),('C','E', 10.0),('C','D', 10.0),('D','F', 100.0),('F','G', 20.0),('F','H', 7.0)])"
   ]
  },
  {
   "cell_type": "code",
   "execution_count": 70,
   "metadata": {},
   "outputs": [
    {
     "name": "stdout",
     "output_type": "stream",
     "text": [
      "With weights:  {'A': 0.0, 'B': 0.0, 'C': 0.6904761904761905, 'D': 0.5714285714285714, 'E': 0.0, 'F': 0.5238095238095237, 'G': 0.0, 'H': 0.0}\n"
     ]
    }
   ],
   "source": [
    "betweenValues = nx.betweenness_centrality(G1, weight = 'weight')\n",
    "print(\"With weights: \", betweenValues)"
   ]
  },
  {
   "cell_type": "markdown",
   "metadata": {},
   "source": [
    "Although weights have been added to the edges, it looks like there hasn't been too much influence on centrality."
   ]
  },
  {
   "cell_type": "markdown",
   "metadata": {},
   "source": [
    "Now let's try to visualise the graph.\n",
    "\n",
    "Due to the drawing routines of networkX, we need to draw the labels and the nodes separately. First, layout the graph and save the positions."
   ]
  },
  {
   "cell_type": "code",
   "execution_count": 71,
   "metadata": {},
   "outputs": [],
   "source": [
    "position = nx.spring_layout(G)"
   ]
  },
  {
   "cell_type": "markdown",
   "metadata": {},
   "source": [
    "Now we will use these positions to draw the graph and then the labels."
   ]
  },
  {
   "cell_type": "code",
   "execution_count": 72,
   "metadata": {},
   "outputs": [
    {
     "data": {
      "image/png": "[encoded data removed]",
      "text/plain": [
       "<Figure size 432x288 with 1 Axes>"
      ]
     },
     "metadata": {},
     "output_type": "display_data"
    }
   ],
   "source": [
    "nx.draw(G,pos=position)\n",
    "nx.draw_networkx_labels(G,pos=position)\n",
    "plt.draw() "
   ]
  },
  {
   "cell_type": "markdown",
   "metadata": {},
   "source": [
    "### More complex networks..."
   ]
  },
  {
   "cell_type": "markdown",
   "metadata": {},
   "source": [
    "Now we have made a simple network, we can expand on it using real data. The data used in the next part is from the paper: Coauthorships in network science: coauthorship network of scientists working on network theory and experiment, as compiled by M. Newman in May 2006."
   ]
  },
  {
   "cell_type": "markdown",
   "metadata": {},
   "source": [
    "Let's load in the necessary data..."
   ]
  },
  {
   "cell_type": "code",
   "execution_count": 94,
   "metadata": {},
   "outputs": [],
   "source": [
    "G2=nx.read_graphml(\"netScience.graphml\")"
   ]
  },
  {
   "cell_type": "markdown",
   "metadata": {},
   "source": [
    "... and visualise..."
   ]
  },
  {
   "cell_type": "code",
   "execution_count": 95,
   "metadata": {},
   "outputs": [
    {
     "data": {
      "image/png": "[encoded data removed]",
      "text/plain": [
       "<Figure size 432x288 with 1 Axes>"
      ]
     },
     "metadata": {},
     "output_type": "display_data"
    }
   ],
   "source": [
    "plt.figure(2)\n",
    "position = nx.spring_layout(G2)\n",
    "nx.draw(G2,pos=position)\n",
    "nx.draw_networkx_labels(G2,pos=position)\n",
    "plt.draw() "
   ]
  },
  {
   "cell_type": "markdown",
   "metadata": {},
   "source": [
    "Perhaps rendering the labels wasn't a very good idea. The network has become very cluttered!"
   ]
  },
  {
   "cell_type": "markdown",
   "metadata": {},
   "source": [
    "Now for some information on the connectedness of the graph."
   ]
  },
  {
   "cell_type": "code",
   "execution_count": 96,
   "metadata": {},
   "outputs": [
    {
     "name": "stdout",
     "output_type": "stream",
     "text": [
      "This graph has  396  many connected components\n"
     ]
    }
   ],
   "source": [
    "connectedComp = nx.connected_components(G2)\n",
    "connectedComp = list(connectedComp)\n",
    "countComp = len(connectedComp)\n",
    "print (\"This graph has \", countComp, \" many connected components\")"
   ]
  },
  {
   "cell_type": "markdown",
   "metadata": {},
   "source": [
    "It is already sorted but just to make sure, we get the largest components..."
   ]
  },
  {
   "cell_type": "code",
   "execution_count": 97,
   "metadata": {},
   "outputs": [],
   "source": [
    "compLengths = []\n",
    "for i in range(0, countComp):\n",
    "    compLengths.append(len(connectedComp[i]))"
   ]
  },
  {
   "cell_type": "code",
   "execution_count": 98,
   "metadata": {},
   "outputs": [],
   "source": [
    "highestIndex = np.argmax(compLengths)\n",
    "componentGraphs = list(nx.connected_component_subgraphs(G2))\n",
    "largestComponent = componentGraphs[highestIndex]"
   ]
  },
  {
   "cell_type": "markdown",
   "metadata": {},
   "source": [
    "This produces a subgraph with 379 nodes and 914 edges"
   ]
  },
  {
   "cell_type": "code",
   "execution_count": 99,
   "metadata": {},
   "outputs": [
    {
     "data": {
      "image/png": "[encoded data removed]",
      "text/plain": [
       "<Figure size 432x288 with 1 Axes>"
      ]
     },
     "metadata": {},
     "output_type": "display_data"
    }
   ],
   "source": [
    "nx.draw(largestComponent)\n",
    "plt.draw() "
   ]
  },
  {
   "cell_type": "markdown",
   "metadata": {},
   "source": [
    "Again, it looks very cluttered!\n",
    "\n",
    "Let's take a look at the betweenness centrailty data for this graph..."
   ]
  },
  {
   "cell_type": "code",
   "execution_count": 100,
   "metadata": {},
   "outputs": [],
   "source": [
    "betweenValues = nx.betweenness_centrality(largestComponent)"
   ]
  },
  {
   "cell_type": "markdown",
   "metadata": {},
   "source": [
    "betweenValues is a dictionary, so let's get the values and keys in separate lists.\n"
   ]
  },
  {
   "cell_type": "code",
   "execution_count": 101,
   "metadata": {},
   "outputs": [],
   "source": [
    "values = list(betweenValues.values())\n",
    "keys = list(betweenValues.keys())"
   ]
  },
  {
   "cell_type": "markdown",
   "metadata": {},
   "source": [
    "Let's find the index of the node with highest betweeness centrality."
   ]
  },
  {
   "cell_type": "code",
   "execution_count": 102,
   "metadata": {},
   "outputs": [
    {
     "name": "stdout",
     "output_type": "stream",
     "text": [
      "The node id  78.0  has the centrality degree of  0.39718418135681166\n"
     ]
    }
   ],
   "source": [
    "highestIndex = np.argmax(values)\n",
    "print(\"The node id \", keys[highestIndex], \" has the centrality degree of \", values[highestIndex])"
   ]
  },
  {
   "cell_type": "markdown",
   "metadata": {},
   "source": [
    "Now on to looking at clustering coefficients\n"
   ]
  },
  {
   "cell_type": "code",
   "execution_count": 103,
   "metadata": {
    "scrolled": false
   },
   "outputs": [
    {
     "name": "stdout",
     "output_type": "stream",
     "text": [
      "Component:  0  Size of the component:  4  coefficient:  0.5833333333333334\n",
      "Component:  1  Size of the component:  5  coefficient:  1.0\n",
      "Component:  2  Size of the component:  8  coefficient:  0.5958333333333333\n",
      "Component:  3  Size of the component:  8  coefficient:  0.9285714285714286\n",
      "Component:  4  Size of the component:  3  coefficient:  1.0\n",
      "Component:  5  Size of the component:  1  coefficient:  0.0\n",
      "Component:  6  Size of the component:  3  coefficient:  1.0\n",
      "Component:  7  Size of the component:  7  coefficient:  0.761904761904762\n",
      "Component:  8  Size of the component:  1  coefficient:  0.0\n",
      "Component:  9  Size of the component:  3  coefficient:  1.0\n",
      "Component:  10  Size of the component:  379  coefficient:  0.7412306142925665\n",
      "Component:  11  Size of the component:  6  coefficient:  1.0\n",
      "Component:  12  Size of the component:  1  coefficient:  0.0\n",
      "Component:  13  Size of the component:  2  coefficient:  0.0\n",
      "Component:  14  Size of the component:  3  coefficient:  1.0\n",
      "Component:  15  Size of the component:  31  coefficient:  0.8593814693135576\n",
      "Component:  16  Size of the component:  3  coefficient:  1.0\n",
      "Component:  17  Size of the component:  57  coefficient:  0.7628842840754197\n",
      "Component:  18  Size of the component:  8  coefficient:  0.7083333333333334\n",
      "Component:  19  Size of the component:  3  coefficient:  1.0\n",
      "Component:  20  Size of the component:  8  coefficient:  0.5416666666666667\n",
      "Component:  21  Size of the component:  1  coefficient:  0.0\n",
      "Component:  22  Size of the component:  3  coefficient:  1.0\n",
      "Component:  23  Size of the component:  1  coefficient:  0.0\n",
      "Component:  24  Size of the component:  3  coefficient:  1.0\n",
      "Component:  25  Size of the component:  4  coefficient:  0.5833333333333333\n",
      "Component:  26  Size of the component:  2  coefficient:  0.0\n",
      "Component:  27  Size of the component:  1  coefficient:  0.0\n",
      "Component:  28  Size of the component:  2  coefficient:  0.0\n",
      "Component:  29  Size of the component:  1  coefficient:  0.0\n",
      "Component:  30  Size of the component:  6  coefficient:  0.7666666666666666\n",
      "Component:  31  Size of the component:  5  coefficient:  0.3333333333333333\n",
      "Component:  32  Size of the component:  3  coefficient:  1.0\n",
      "Component:  33  Size of the component:  1  coefficient:  0.0\n",
      "Component:  34  Size of the component:  2  coefficient:  0.0\n",
      "Component:  35  Size of the component:  2  coefficient:  0.0\n",
      "Component:  36  Size of the component:  10  coefficient:  1.0\n",
      "Component:  37  Size of the component:  4  coefficient:  1.0\n",
      "Component:  38  Size of the component:  1  coefficient:  0.0\n",
      "Component:  39  Size of the component:  2  coefficient:  0.0\n",
      "Component:  40  Size of the component:  2  coefficient:  0.0\n",
      "Component:  41  Size of the component:  3  coefficient:  0.0\n",
      "Component:  42  Size of the component:  1  coefficient:  0.0\n",
      "Component:  43  Size of the component:  4  coefficient:  0.5833333333333334\n",
      "Component:  44  Size of the component:  3  coefficient:  1.0\n",
      "Component:  45  Size of the component:  4  coefficient:  0.5833333333333333\n",
      "Component:  46  Size of the component:  1  coefficient:  0.0\n",
      "Component:  47  Size of the component:  3  coefficient:  1.0\n",
      "Component:  48  Size of the component:  2  coefficient:  0.0\n",
      "Component:  49  Size of the component:  6  coefficient:  0.9\n",
      "Component:  50  Size of the component:  5  coefficient:  1.0\n",
      "Component:  51  Size of the component:  1  coefficient:  0.0\n",
      "Component:  52  Size of the component:  2  coefficient:  0.0\n",
      "Component:  53  Size of the component:  5  coefficient:  0.8666666666666666\n",
      "Component:  54  Size of the component:  3  coefficient:  1.0\n",
      "Component:  55  Size of the component:  3  coefficient:  1.0\n",
      "Component:  56  Size of the component:  3  coefficient:  0.0\n",
      "Component:  57  Size of the component:  4  coefficient:  1.0\n",
      "Component:  58  Size of the component:  1  coefficient:  0.0\n",
      "Component:  59  Size of the component:  1  coefficient:  0.0\n",
      "Component:  60  Size of the component:  2  coefficient:  0.0\n",
      "Component:  61  Size of the component:  7  coefficient:  0.6285714285714287\n",
      "Component:  62  Size of the component:  6  coefficient:  0.7666666666666666\n",
      "Component:  63  Size of the component:  14  coefficient:  0.5350340136054422\n",
      "Component:  64  Size of the component:  3  coefficient:  1.0\n",
      "Component:  65  Size of the component:  1  coefficient:  0.0\n",
      "Component:  66  Size of the component:  28  coefficient:  0.828470438291867\n",
      "Component:  67  Size of the component:  1  coefficient:  0.0\n",
      "Component:  68  Size of the component:  4  coefficient:  1.0\n",
      "Component:  69  Size of the component:  2  coefficient:  0.0\n",
      "Component:  70  Size of the component:  2  coefficient:  0.0\n",
      "Component:  71  Size of the component:  1  coefficient:  0.0\n",
      "Component:  72  Size of the component:  6  coefficient:  0.9\n",
      "Component:  73  Size of the component:  4  coefficient:  0.8333333333333333\n",
      "Component:  74  Size of the component:  3  coefficient:  1.0\n",
      "Component:  75  Size of the component:  1  coefficient:  0.0\n",
      "Component:  76  Size of the component:  12  coefficient:  0.5\n",
      "Component:  77  Size of the component:  2  coefficient:  0.0\n",
      "Component:  78  Size of the component:  4  coefficient:  0.5833333333333334\n",
      "Component:  79  Size of the component:  3  coefficient:  0.0\n",
      "Component:  80  Size of the component:  7  coefficient:  0.819047619047619\n",
      "Component:  81  Size of the component:  4  coefficient:  1.0\n",
      "Component:  82  Size of the component:  13  coefficient:  0.7888111888111887\n",
      "Component:  83  Size of the component:  4  coefficient:  1.0\n",
      "Component:  84  Size of the component:  7  coefficient:  0.8095238095238095\n",
      "Component:  85  Size of the component:  3  coefficient:  1.0\n",
      "Component:  86  Size of the component:  5  coefficient:  0.8666666666666666\n",
      "Component:  87  Size of the component:  3  coefficient:  1.0\n",
      "Component:  88  Size of the component:  3  coefficient:  1.0\n",
      "Component:  89  Size of the component:  3  coefficient:  1.0\n",
      "Component:  90  Size of the component:  3  coefficient:  1.0\n",
      "Component:  91  Size of the component:  8  coefficient:  1.0\n",
      "Component:  92  Size of the component:  4  coefficient:  1.0\n",
      "Component:  93  Size of the component:  4  coefficient:  1.0\n",
      "Component:  94  Size of the component:  1  coefficient:  0.0\n",
      "Component:  95  Size of the component:  6  coefficient:  0.8999999999999999\n",
      "Component:  96  Size of the component:  2  coefficient:  0.0\n",
      "Component:  97  Size of the component:  1  coefficient:  0.0\n",
      "Component:  98  Size of the component:  3  coefficient:  1.0\n",
      "Component:  99  Size of the component:  3  coefficient:  1.0\n",
      "Component:  100  Size of the component:  3  coefficient:  0.0\n",
      "Component:  101  Size of the component:  2  coefficient:  0.0\n",
      "Component:  102  Size of the component:  3  coefficient:  1.0\n",
      "Component:  103  Size of the component:  3  coefficient:  0.0\n",
      "Component:  104  Size of the component:  4  coefficient:  1.0\n",
      "Component:  105  Size of the component:  1  coefficient:  0.0\n",
      "Component:  106  Size of the component:  8  coefficient:  1.0\n",
      "Component:  107  Size of the component:  5  coefficient:  1.0\n",
      "Component:  108  Size of the component:  5  coefficient:  0.3333333333333333\n",
      "Component:  109  Size of the component:  14  coefficient:  0.7491496598639455\n",
      "Component:  110  Size of the component:  2  coefficient:  0.0\n",
      "Component:  111  Size of the component:  2  coefficient:  0.0\n",
      "Component:  112  Size of the component:  7  coefficient:  0.8857142857142858\n",
      "Component:  113  Size of the component:  2  coefficient:  0.0\n",
      "Component:  114  Size of the component:  1  coefficient:  0.0\n",
      "Component:  115  Size of the component:  2  coefficient:  0.0\n",
      "Component:  116  Size of the component:  1  coefficient:  0.0\n",
      "Component:  117  Size of the component:  2  coefficient:  0.0\n",
      "Component:  118  Size of the component:  2  coefficient:  0.0\n",
      "Component:  119  Size of the component:  2  coefficient:  0.0\n",
      "Component:  120  Size of the component:  2  coefficient:  0.0\n",
      "Component:  121  Size of the component:  7  coefficient:  0.9142857142857143\n",
      "Component:  122  Size of the component:  2  coefficient:  0.0\n",
      "Component:  123  Size of the component:  1  coefficient:  0.0\n",
      "Component:  124  Size of the component:  8  coefficient:  0.875\n",
      "Component:  125  Size of the component:  1  coefficient:  0.0\n",
      "Component:  126  Size of the component:  2  coefficient:  0.0\n",
      "Component:  127  Size of the component:  1  coefficient:  0.0\n",
      "Component:  128  Size of the component:  3  coefficient:  1.0\n",
      "Component:  129  Size of the component:  1  coefficient:  0.0\n",
      "Component:  130  Size of the component:  3  coefficient:  1.0\n",
      "Component:  131  Size of the component:  2  coefficient:  0.0\n",
      "Component:  132  Size of the component:  2  coefficient:  0.0\n",
      "Component:  133  Size of the component:  2  coefficient:  0.0\n",
      "Component:  134  Size of the component:  2  coefficient:  0.0\n",
      "Component:  135  Size of the component:  2  coefficient:  0.0\n",
      "Component:  136  Size of the component:  1  coefficient:  0.0\n",
      "Component:  137  Size of the component:  3  coefficient:  1.0\n",
      "Component:  138  Size of the component:  2  coefficient:  0.0\n",
      "Component:  139  Size of the component:  1  coefficient:  0.0\n",
      "Component:  140  Size of the component:  2  coefficient:  0.0\n",
      "Component:  141  Size of the component:  4  coefficient:  0.5833333333333333\n",
      "Component:  142  Size of the component:  2  coefficient:  0.0\n",
      "Component:  143  Size of the component:  1  coefficient:  0.0\n",
      "Component:  144  Size of the component:  2  coefficient:  0.0\n",
      "Component:  145  Size of the component:  1  coefficient:  0.0\n",
      "Component:  146  Size of the component:  1  coefficient:  0.0\n",
      "Component:  147  Size of the component:  1  coefficient:  0.0\n",
      "Component:  148  Size of the component:  2  coefficient:  0.0\n",
      "Component:  149  Size of the component:  2  coefficient:  0.0\n",
      "Component:  150  Size of the component:  3  coefficient:  1.0\n",
      "Component:  151  Size of the component:  2  coefficient:  0.0\n",
      "Component:  152  Size of the component:  2  coefficient:  0.0\n",
      "Component:  153  Size of the component:  4  coefficient:  1.0\n",
      "Component:  154  Size of the component:  2  coefficient:  0.0\n",
      "Component:  155  Size of the component:  1  coefficient:  0.0\n",
      "Component:  156  Size of the component:  3  coefficient:  1.0\n",
      "Component:  157  Size of the component:  4  coefficient:  0.5833333333333333\n",
      "Component:  158  Size of the component:  1  coefficient:  0.0\n",
      "Component:  159  Size of the component:  21  coefficient:  0.987218045112782\n",
      "Component:  160  Size of the component:  2  coefficient:  0.0\n",
      "Component:  161  Size of the component:  1  coefficient:  0.0\n",
      "Component:  162  Size of the component:  4  coefficient:  1.0\n",
      "Component:  163  Size of the component:  9  coefficient:  0.8952380952380952\n",
      "Component:  164  Size of the component:  2  coefficient:  0.0\n",
      "Component:  165  Size of the component:  6  coefficient:  0.0\n",
      "Component:  166  Size of the component:  2  coefficient:  0.0\n",
      "Component:  167  Size of the component:  3  coefficient:  1.0\n",
      "Component:  168  Size of the component:  4  coefficient:  1.0\n",
      "Component:  169  Size of the component:  1  coefficient:  0.0\n",
      "Component:  170  Size of the component:  1  coefficient:  0.0\n",
      "Component:  171  Size of the component:  1  coefficient:  0.0\n",
      "Component:  172  Size of the component:  1  coefficient:  0.0\n",
      "Component:  173  Size of the component:  4  coefficient:  1.0\n",
      "Component:  174  Size of the component:  1  coefficient:  0.0\n",
      "Component:  175  Size of the component:  4  coefficient:  0.5833333333333334\n",
      "Component:  176  Size of the component:  1  coefficient:  0.0\n",
      "Component:  177  Size of the component:  4  coefficient:  1.0\n",
      "Component:  178  Size of the component:  1  coefficient:  0.0\n",
      "Component:  179  Size of the component:  1  coefficient:  0.0\n",
      "Component:  180  Size of the component:  2  coefficient:  0.0\n",
      "Component:  181  Size of the component:  3  coefficient:  1.0\n",
      "Component:  182  Size of the component:  1  coefficient:  0.0\n",
      "Component:  183  Size of the component:  1  coefficient:  0.0\n",
      "Component:  184  Size of the component:  1  coefficient:  0.0\n",
      "Component:  185  Size of the component:  2  coefficient:  0.0\n",
      "Component:  186  Size of the component:  1  coefficient:  0.0\n",
      "Component:  187  Size of the component:  2  coefficient:  0.0\n",
      "Component:  188  Size of the component:  2  coefficient:  0.0\n",
      "Component:  189  Size of the component:  4  coefficient:  1.0\n",
      "Component:  190  Size of the component:  2  coefficient:  0.0\n",
      "Component:  191  Size of the component:  1  coefficient:  0.0\n",
      "Component:  192  Size of the component:  1  coefficient:  0.0\n",
      "Component:  193  Size of the component:  3  coefficient:  1.0\n",
      "Component:  194  Size of the component:  1  coefficient:  0.0\n",
      "Component:  195  Size of the component:  6  coefficient:  1.0\n",
      "Component:  196  Size of the component:  2  coefficient:  0.0\n",
      "Component:  197  Size of the component:  1  coefficient:  0.0\n",
      "Component:  198  Size of the component:  2  coefficient:  0.0\n",
      "Component:  199  Size of the component:  3  coefficient:  1.0\n",
      "Component:  200  Size of the component:  2  coefficient:  0.0\n",
      "Component:  201  Size of the component:  3  coefficient:  0.0\n",
      "Component:  202  Size of the component:  4  coefficient:  1.0\n",
      "Component:  203  Size of the component:  10  coefficient:  1.0\n",
      "Component:  204  Size of the component:  3  coefficient:  1.0\n",
      "Component:  205  Size of the component:  1  coefficient:  0.0\n",
      "Component:  206  Size of the component:  8  coefficient:  0.7916666666666666\n",
      "Component:  207  Size of the component:  4  coefficient:  1.0\n",
      "Component:  208  Size of the component:  2  coefficient:  0.0\n",
      "Component:  209  Size of the component:  3  coefficient:  1.0\n",
      "Component:  210  Size of the component:  1  coefficient:  0.0\n",
      "Component:  211  Size of the component:  3  coefficient:  1.0\n",
      "Component:  212  Size of the component:  1  coefficient:  0.0\n",
      "Component:  213  Size of the component:  1  coefficient:  0.0\n",
      "Component:  214  Size of the component:  1  coefficient:  0.0\n",
      "Component:  215  Size of the component:  6  coefficient:  0.7666666666666666\n",
      "Component:  216  Size of the component:  1  coefficient:  0.0\n",
      "Component:  217  Size of the component:  1  coefficient:  0.0\n",
      "Component:  218  Size of the component:  5  coefficient:  1.0\n",
      "Component:  219  Size of the component:  2  coefficient:  0.0\n",
      "Component:  220  Size of the component:  3  coefficient:  1.0\n",
      "Component:  221  Size of the component:  2  coefficient:  0.0\n",
      "Component:  222  Size of the component:  3  coefficient:  1.0\n",
      "Component:  223  Size of the component:  1  coefficient:  0.0\n",
      "Component:  224  Size of the component:  5  coefficient:  1.0\n",
      "Component:  225  Size of the component:  4  coefficient:  0.5833333333333333\n",
      "Component:  226  Size of the component:  3  coefficient:  1.0\n",
      "Component:  227  Size of the component:  2  coefficient:  0.0\n",
      "Component:  228  Size of the component:  3  coefficient:  1.0\n",
      "Component:  229  Size of the component:  1  coefficient:  0.0\n",
      "Component:  230  Size of the component:  2  coefficient:  0.0\n",
      "Component:  231  Size of the component:  3  coefficient:  1.0\n",
      "Component:  232  Size of the component:  1  coefficient:  0.0\n",
      "Component:  233  Size of the component:  3  coefficient:  0.0\n",
      "Component:  234  Size of the component:  1  coefficient:  0.0\n",
      "Component:  235  Size of the component:  3  coefficient:  1.0\n",
      "Component:  236  Size of the component:  4  coefficient:  0.5833333333333333\n",
      "Component:  237  Size of the component:  2  coefficient:  0.0\n",
      "Component:  238  Size of the component:  4  coefficient:  1.0\n",
      "Component:  239  Size of the component:  3  coefficient:  1.0\n",
      "Component:  240  Size of the component:  3  coefficient:  1.0\n",
      "Component:  241  Size of the component:  6  coefficient:  1.0\n",
      "Component:  242  Size of the component:  1  coefficient:  0.0\n",
      "Component:  243  Size of the component:  2  coefficient:  0.0\n",
      "Component:  244  Size of the component:  3  coefficient:  1.0\n",
      "Component:  245  Size of the component:  2  coefficient:  0.0\n",
      "Component:  246  Size of the component:  1  coefficient:  0.0\n",
      "Component:  247  Size of the component:  2  coefficient:  0.0\n",
      "Component:  248  Size of the component:  5  coefficient:  1.0\n",
      "Component:  249  Size of the component:  1  coefficient:  0.0\n",
      "Component:  250  Size of the component:  2  coefficient:  0.0\n",
      "Component:  251  Size of the component:  3  coefficient:  0.0\n",
      "Component:  252  Size of the component:  2  coefficient:  0.0\n",
      "Component:  253  Size of the component:  2  coefficient:  0.0\n",
      "Component:  254  Size of the component:  1  coefficient:  0.0\n",
      "Component:  255  Size of the component:  9  coefficient:  0.8214285714285714\n",
      "Component:  256  Size of the component:  1  coefficient:  0.0\n",
      "Component:  257  Size of the component:  1  coefficient:  0.0\n",
      "Component:  258  Size of the component:  2  coefficient:  0.0\n",
      "Component:  259  Size of the component:  2  coefficient:  0.0\n",
      "Component:  260  Size of the component:  4  coefficient:  0.5833333333333333\n",
      "Component:  261  Size of the component:  3  coefficient:  1.0\n",
      "Component:  262  Size of the component:  1  coefficient:  0.0\n",
      "Component:  263  Size of the component:  2  coefficient:  0.0\n",
      "Component:  264  Size of the component:  5  coefficient:  0.7\n",
      "Component:  265  Size of the component:  1  coefficient:  0.0\n",
      "Component:  266  Size of the component:  11  coefficient:  0.890909090909091\n",
      "Component:  267  Size of the component:  1  coefficient:  0.0\n",
      "Component:  268  Size of the component:  1  coefficient:  0.0\n",
      "Component:  269  Size of the component:  1  coefficient:  0.0\n",
      "Component:  270  Size of the component:  2  coefficient:  0.0\n",
      "Component:  271  Size of the component:  1  coefficient:  0.0\n",
      "Component:  272  Size of the component:  1  coefficient:  0.0\n",
      "Component:  273  Size of the component:  1  coefficient:  0.0\n",
      "Component:  274  Size of the component:  4  coefficient:  1.0\n",
      "Component:  275  Size of the component:  3  coefficient:  1.0\n",
      "Component:  276  Size of the component:  1  coefficient:  0.0\n",
      "Component:  277  Size of the component:  3  coefficient:  1.0\n",
      "Component:  278  Size of the component:  1  coefficient:  0.0\n",
      "Component:  279  Size of the component:  2  coefficient:  0.0\n",
      "Component:  280  Size of the component:  8  coefficient:  0.9285714285714286\n",
      "Component:  281  Size of the component:  1  coefficient:  0.0\n",
      "Component:  282  Size of the component:  2  coefficient:  0.0\n",
      "Component:  283  Size of the component:  2  coefficient:  0.0\n",
      "Component:  284  Size of the component:  2  coefficient:  0.0\n",
      "Component:  285  Size of the component:  2  coefficient:  0.0\n",
      "Component:  286  Size of the component:  4  coefficient:  0.5833333333333334\n",
      "Component:  287  Size of the component:  1  coefficient:  0.0\n",
      "Component:  288  Size of the component:  1  coefficient:  0.0\n",
      "Component:  289  Size of the component:  5  coefficient:  1.0\n",
      "Component:  290  Size of the component:  1  coefficient:  0.0\n",
      "Component:  291  Size of the component:  9  coefficient:  1.0\n",
      "Component:  292  Size of the component:  1  coefficient:  0.0\n",
      "Component:  293  Size of the component:  2  coefficient:  0.0\n"
     ]
    },
    {
     "name": "stdout",
     "output_type": "stream",
     "text": [
      "Component:  294  Size of the component:  2  coefficient:  0.0\n",
      "Component:  295  Size of the component:  1  coefficient:  0.0\n",
      "Component:  296  Size of the component:  1  coefficient:  0.0\n",
      "Component:  297  Size of the component:  1  coefficient:  0.0\n",
      "Component:  298  Size of the component:  1  coefficient:  0.0\n",
      "Component:  299  Size of the component:  1  coefficient:  0.0\n",
      "Component:  300  Size of the component:  3  coefficient:  1.0\n",
      "Component:  301  Size of the component:  1  coefficient:  0.0\n",
      "Component:  302  Size of the component:  1  coefficient:  0.0\n",
      "Component:  303  Size of the component:  1  coefficient:  0.0\n",
      "Component:  304  Size of the component:  2  coefficient:  0.0\n",
      "Component:  305  Size of the component:  3  coefficient:  1.0\n",
      "Component:  306  Size of the component:  4  coefficient:  1.0\n",
      "Component:  307  Size of the component:  1  coefficient:  0.0\n",
      "Component:  308  Size of the component:  2  coefficient:  0.0\n",
      "Component:  309  Size of the component:  1  coefficient:  0.0\n",
      "Component:  310  Size of the component:  3  coefficient:  1.0\n",
      "Component:  311  Size of the component:  4  coefficient:  0.0\n",
      "Component:  312  Size of the component:  2  coefficient:  0.0\n",
      "Component:  313  Size of the component:  2  coefficient:  0.0\n",
      "Component:  314  Size of the component:  2  coefficient:  0.0\n",
      "Component:  315  Size of the component:  2  coefficient:  0.0\n",
      "Component:  316  Size of the component:  2  coefficient:  0.0\n",
      "Component:  317  Size of the component:  3  coefficient:  1.0\n",
      "Component:  318  Size of the component:  2  coefficient:  0.0\n",
      "Component:  319  Size of the component:  3  coefficient:  1.0\n",
      "Component:  320  Size of the component:  4  coefficient:  1.0\n",
      "Component:  321  Size of the component:  1  coefficient:  0.0\n",
      "Component:  322  Size of the component:  1  coefficient:  0.0\n",
      "Component:  323  Size of the component:  1  coefficient:  0.0\n",
      "Component:  324  Size of the component:  1  coefficient:  0.0\n",
      "Component:  325  Size of the component:  9  coefficient:  0.9365079365079365\n",
      "Component:  326  Size of the component:  1  coefficient:  0.0\n",
      "Component:  327  Size of the component:  5  coefficient:  0.8666666666666666\n",
      "Component:  328  Size of the component:  1  coefficient:  0.0\n",
      "Component:  329  Size of the component:  1  coefficient:  0.0\n",
      "Component:  330  Size of the component:  2  coefficient:  0.0\n",
      "Component:  331  Size of the component:  1  coefficient:  0.0\n",
      "Component:  332  Size of the component:  1  coefficient:  0.0\n",
      "Component:  333  Size of the component:  1  coefficient:  0.0\n",
      "Component:  334  Size of the component:  2  coefficient:  0.0\n",
      "Component:  335  Size of the component:  1  coefficient:  0.0\n",
      "Component:  336  Size of the component:  1  coefficient:  0.0\n",
      "Component:  337  Size of the component:  2  coefficient:  0.0\n",
      "Component:  338  Size of the component:  3  coefficient:  1.0\n",
      "Component:  339  Size of the component:  2  coefficient:  0.0\n",
      "Component:  340  Size of the component:  2  coefficient:  0.0\n",
      "Component:  341  Size of the component:  1  coefficient:  0.0\n",
      "Component:  342  Size of the component:  3  coefficient:  1.0\n",
      "Component:  343  Size of the component:  1  coefficient:  0.0\n",
      "Component:  344  Size of the component:  5  coefficient:  0.7\n",
      "Component:  345  Size of the component:  1  coefficient:  0.0\n",
      "Component:  346  Size of the component:  1  coefficient:  0.0\n",
      "Component:  347  Size of the component:  2  coefficient:  0.0\n",
      "Component:  348  Size of the component:  2  coefficient:  0.0\n",
      "Component:  349  Size of the component:  2  coefficient:  0.0\n",
      "Component:  350  Size of the component:  2  coefficient:  0.0\n",
      "Component:  351  Size of the component:  3  coefficient:  1.0\n",
      "Component:  352  Size of the component:  1  coefficient:  0.0\n",
      "Component:  353  Size of the component:  1  coefficient:  0.0\n",
      "Component:  354  Size of the component:  1  coefficient:  0.0\n",
      "Component:  355  Size of the component:  1  coefficient:  0.0\n",
      "Component:  356  Size of the component:  2  coefficient:  0.0\n",
      "Component:  357  Size of the component:  1  coefficient:  0.0\n",
      "Component:  358  Size of the component:  3  coefficient:  1.0\n",
      "Component:  359  Size of the component:  1  coefficient:  0.0\n",
      "Component:  360  Size of the component:  5  coefficient:  1.0\n",
      "Component:  361  Size of the component:  4  coefficient:  1.0\n",
      "Component:  362  Size of the component:  3  coefficient:  1.0\n",
      "Component:  363  Size of the component:  2  coefficient:  0.0\n",
      "Component:  364  Size of the component:  4  coefficient:  1.0\n",
      "Component:  365  Size of the component:  1  coefficient:  0.0\n",
      "Component:  366  Size of the component:  1  coefficient:  0.0\n",
      "Component:  367  Size of the component:  3  coefficient:  1.0\n",
      "Component:  368  Size of the component:  3  coefficient:  1.0\n",
      "Component:  369  Size of the component:  2  coefficient:  0.0\n",
      "Component:  370  Size of the component:  3  coefficient:  1.0\n",
      "Component:  371  Size of the component:  2  coefficient:  0.0\n",
      "Component:  372  Size of the component:  1  coefficient:  0.0\n",
      "Component:  373  Size of the component:  7  coefficient:  0.6\n",
      "Component:  374  Size of the component:  2  coefficient:  0.0\n",
      "Component:  375  Size of the component:  1  coefficient:  0.0\n",
      "Component:  376  Size of the component:  1  coefficient:  0.0\n",
      "Component:  377  Size of the component:  3  coefficient:  1.0\n",
      "Component:  378  Size of the component:  1  coefficient:  0.0\n",
      "Component:  379  Size of the component:  2  coefficient:  0.0\n",
      "Component:  380  Size of the component:  1  coefficient:  0.0\n",
      "Component:  381  Size of the component:  2  coefficient:  0.0\n",
      "Component:  382  Size of the component:  1  coefficient:  0.0\n",
      "Component:  383  Size of the component:  1  coefficient:  0.0\n",
      "Component:  384  Size of the component:  2  coefficient:  0.0\n",
      "Component:  385  Size of the component:  3  coefficient:  1.0\n",
      "Component:  386  Size of the component:  2  coefficient:  0.0\n",
      "Component:  387  Size of the component:  4  coefficient:  1.0\n",
      "Component:  388  Size of the component:  1  coefficient:  0.0\n",
      "Component:  389  Size of the component:  1  coefficient:  0.0\n",
      "Component:  390  Size of the component:  2  coefficient:  0.0\n",
      "Component:  391  Size of the component:  4  coefficient:  1.0\n",
      "Component:  392  Size of the component:  2  coefficient:  0.0\n",
      "Component:  393  Size of the component:  1  coefficient:  0.0\n",
      "Component:  394  Size of the component:  2  coefficient:  0.0\n",
      "Component:  395  Size of the component:  3  coefficient:  0.0\n"
     ]
    }
   ],
   "source": [
    "overallAverage = []\n",
    "for i in range(0, countComp):\n",
    "    clustCoeff = nx.clustering( componentGraphs[i])\n",
    "    coeffVals = list(clustCoeff.values())\n",
    "    overallAverage.append(np.average(coeffVals))\n",
    "    print (\"Component: \", i, \" Size of the component: \", len(componentGraphs[i].nodes()),  \" coefficient: \", np.average(coeffVals))"
   ]
  },
  {
   "cell_type": "markdown",
   "metadata": {},
   "source": [
    "And let's print this central node's label (we need to look at the graphml for the names of the attribute fields)..."
   ]
  },
  {
   "cell_type": "code",
   "execution_count": 104,
   "metadata": {},
   "outputs": [
    {
     "name": "stdout",
     "output_type": "stream",
     "text": [
      "NEWMAN, M\n"
     ]
    }
   ],
   "source": [
    "print (largestComponent.node[str(keys[highestIndex])]['label'])"
   ]
  },
  {
   "cell_type": "markdown",
   "metadata": {},
   "source": [
    "Now on to looking at clustering coefficients..."
   ]
  },
  {
   "cell_type": "code",
   "execution_count": 105,
   "metadata": {},
   "outputs": [
    {
     "name": "stdout",
     "output_type": "stream",
     "text": [
      "Component:  0  Size of the component:  4  coefficient:  0.5833333333333334\n",
      "Component:  1  Size of the component:  5  coefficient:  1.0\n",
      "Component:  2  Size of the component:  8  coefficient:  0.5958333333333333\n",
      "Component:  3  Size of the component:  8  coefficient:  0.9285714285714286\n",
      "Component:  4  Size of the component:  3  coefficient:  1.0\n",
      "Component:  5  Size of the component:  1  coefficient:  0.0\n",
      "Component:  6  Size of the component:  3  coefficient:  1.0\n",
      "Component:  7  Size of the component:  7  coefficient:  0.761904761904762\n",
      "Component:  8  Size of the component:  1  coefficient:  0.0\n",
      "Component:  9  Size of the component:  3  coefficient:  1.0\n",
      "Component:  10  Size of the component:  379  coefficient:  0.7412306142925665\n",
      "Component:  11  Size of the component:  6  coefficient:  1.0\n",
      "Component:  12  Size of the component:  1  coefficient:  0.0\n",
      "Component:  13  Size of the component:  2  coefficient:  0.0\n",
      "Component:  14  Size of the component:  3  coefficient:  1.0\n",
      "Component:  15  Size of the component:  31  coefficient:  0.8593814693135576\n",
      "Component:  16  Size of the component:  3  coefficient:  1.0\n",
      "Component:  17  Size of the component:  57  coefficient:  0.7628842840754197\n",
      "Component:  18  Size of the component:  8  coefficient:  0.7083333333333334\n",
      "Component:  19  Size of the component:  3  coefficient:  1.0\n",
      "Component:  20  Size of the component:  8  coefficient:  0.5416666666666667\n",
      "Component:  21  Size of the component:  1  coefficient:  0.0\n",
      "Component:  22  Size of the component:  3  coefficient:  1.0\n",
      "Component:  23  Size of the component:  1  coefficient:  0.0\n",
      "Component:  24  Size of the component:  3  coefficient:  1.0\n",
      "Component:  25  Size of the component:  4  coefficient:  0.5833333333333333\n",
      "Component:  26  Size of the component:  2  coefficient:  0.0\n",
      "Component:  27  Size of the component:  1  coefficient:  0.0\n",
      "Component:  28  Size of the component:  2  coefficient:  0.0\n",
      "Component:  29  Size of the component:  1  coefficient:  0.0\n",
      "Component:  30  Size of the component:  6  coefficient:  0.7666666666666666\n",
      "Component:  31  Size of the component:  5  coefficient:  0.3333333333333333\n",
      "Component:  32  Size of the component:  3  coefficient:  1.0\n",
      "Component:  33  Size of the component:  1  coefficient:  0.0\n",
      "Component:  34  Size of the component:  2  coefficient:  0.0\n",
      "Component:  35  Size of the component:  2  coefficient:  0.0\n",
      "Component:  36  Size of the component:  10  coefficient:  1.0\n",
      "Component:  37  Size of the component:  4  coefficient:  1.0\n",
      "Component:  38  Size of the component:  1  coefficient:  0.0\n",
      "Component:  39  Size of the component:  2  coefficient:  0.0\n",
      "Component:  40  Size of the component:  2  coefficient:  0.0\n",
      "Component:  41  Size of the component:  3  coefficient:  0.0\n",
      "Component:  42  Size of the component:  1  coefficient:  0.0\n",
      "Component:  43  Size of the component:  4  coefficient:  0.5833333333333334\n",
      "Component:  44  Size of the component:  3  coefficient:  1.0\n",
      "Component:  45  Size of the component:  4  coefficient:  0.5833333333333333\n",
      "Component:  46  Size of the component:  1  coefficient:  0.0\n",
      "Component:  47  Size of the component:  3  coefficient:  1.0\n",
      "Component:  48  Size of the component:  2  coefficient:  0.0\n",
      "Component:  49  Size of the component:  6  coefficient:  0.9\n",
      "Component:  50  Size of the component:  5  coefficient:  1.0\n",
      "Component:  51  Size of the component:  1  coefficient:  0.0\n",
      "Component:  52  Size of the component:  2  coefficient:  0.0\n",
      "Component:  53  Size of the component:  5  coefficient:  0.8666666666666666\n",
      "Component:  54  Size of the component:  3  coefficient:  1.0\n",
      "Component:  55  Size of the component:  3  coefficient:  1.0\n",
      "Component:  56  Size of the component:  3  coefficient:  0.0\n",
      "Component:  57  Size of the component:  4  coefficient:  1.0\n",
      "Component:  58  Size of the component:  1  coefficient:  0.0\n",
      "Component:  59  Size of the component:  1  coefficient:  0.0\n",
      "Component:  60  Size of the component:  2  coefficient:  0.0\n",
      "Component:  61  Size of the component:  7  coefficient:  0.6285714285714287\n",
      "Component:  62  Size of the component:  6  coefficient:  0.7666666666666666\n",
      "Component:  63  Size of the component:  14  coefficient:  0.5350340136054422\n",
      "Component:  64  Size of the component:  3  coefficient:  1.0\n",
      "Component:  65  Size of the component:  1  coefficient:  0.0\n",
      "Component:  66  Size of the component:  28  coefficient:  0.828470438291867\n",
      "Component:  67  Size of the component:  1  coefficient:  0.0\n",
      "Component:  68  Size of the component:  4  coefficient:  1.0\n",
      "Component:  69  Size of the component:  2  coefficient:  0.0\n",
      "Component:  70  Size of the component:  2  coefficient:  0.0\n",
      "Component:  71  Size of the component:  1  coefficient:  0.0\n",
      "Component:  72  Size of the component:  6  coefficient:  0.9\n",
      "Component:  73  Size of the component:  4  coefficient:  0.8333333333333333\n",
      "Component:  74  Size of the component:  3  coefficient:  1.0\n",
      "Component:  75  Size of the component:  1  coefficient:  0.0\n",
      "Component:  76  Size of the component:  12  coefficient:  0.5\n",
      "Component:  77  Size of the component:  2  coefficient:  0.0\n",
      "Component:  78  Size of the component:  4  coefficient:  0.5833333333333334\n",
      "Component:  79  Size of the component:  3  coefficient:  0.0\n",
      "Component:  80  Size of the component:  7  coefficient:  0.819047619047619\n",
      "Component:  81  Size of the component:  4  coefficient:  1.0\n",
      "Component:  82  Size of the component:  13  coefficient:  0.7888111888111887\n",
      "Component:  83  Size of the component:  4  coefficient:  1.0\n",
      "Component:  84  Size of the component:  7  coefficient:  0.8095238095238095\n",
      "Component:  85  Size of the component:  3  coefficient:  1.0\n",
      "Component:  86  Size of the component:  5  coefficient:  0.8666666666666666\n",
      "Component:  87  Size of the component:  3  coefficient:  1.0\n",
      "Component:  88  Size of the component:  3  coefficient:  1.0\n",
      "Component:  89  Size of the component:  3  coefficient:  1.0\n",
      "Component:  90  Size of the component:  3  coefficient:  1.0\n",
      "Component:  91  Size of the component:  8  coefficient:  1.0\n",
      "Component:  92  Size of the component:  4  coefficient:  1.0\n",
      "Component:  93  Size of the component:  4  coefficient:  1.0\n",
      "Component:  94  Size of the component:  1  coefficient:  0.0\n",
      "Component:  95  Size of the component:  6  coefficient:  0.8999999999999999\n",
      "Component:  96  Size of the component:  2  coefficient:  0.0\n",
      "Component:  97  Size of the component:  1  coefficient:  0.0\n",
      "Component:  98  Size of the component:  3  coefficient:  1.0\n",
      "Component:  99  Size of the component:  3  coefficient:  1.0\n",
      "Component:  100  Size of the component:  3  coefficient:  0.0\n",
      "Component:  101  Size of the component:  2  coefficient:  0.0\n",
      "Component:  102  Size of the component:  3  coefficient:  1.0\n",
      "Component:  103  Size of the component:  3  coefficient:  0.0\n",
      "Component:  104  Size of the component:  4  coefficient:  1.0\n",
      "Component:  105  Size of the component:  1  coefficient:  0.0\n",
      "Component:  106  Size of the component:  8  coefficient:  1.0\n",
      "Component:  107  Size of the component:  5  coefficient:  1.0\n",
      "Component:  108  Size of the component:  5  coefficient:  0.3333333333333333\n",
      "Component:  109  Size of the component:  14  coefficient:  0.7491496598639455\n",
      "Component:  110  Size of the component:  2  coefficient:  0.0\n",
      "Component:  111  Size of the component:  2  coefficient:  0.0\n",
      "Component:  112  Size of the component:  7  coefficient:  0.8857142857142858\n",
      "Component:  113  Size of the component:  2  coefficient:  0.0\n",
      "Component:  114  Size of the component:  1  coefficient:  0.0\n",
      "Component:  115  Size of the component:  2  coefficient:  0.0\n",
      "Component:  116  Size of the component:  1  coefficient:  0.0\n",
      "Component:  117  Size of the component:  2  coefficient:  0.0\n",
      "Component:  118  Size of the component:  2  coefficient:  0.0\n",
      "Component:  119  Size of the component:  2  coefficient:  0.0\n",
      "Component:  120  Size of the component:  2  coefficient:  0.0\n",
      "Component:  121  Size of the component:  7  coefficient:  0.9142857142857143\n",
      "Component:  122  Size of the component:  2  coefficient:  0.0\n",
      "Component:  123  Size of the component:  1  coefficient:  0.0\n",
      "Component:  124  Size of the component:  8  coefficient:  0.875\n",
      "Component:  125  Size of the component:  1  coefficient:  0.0\n",
      "Component:  126  Size of the component:  2  coefficient:  0.0\n",
      "Component:  127  Size of the component:  1  coefficient:  0.0\n",
      "Component:  128  Size of the component:  3  coefficient:  1.0\n",
      "Component:  129  Size of the component:  1  coefficient:  0.0\n",
      "Component:  130  Size of the component:  3  coefficient:  1.0\n",
      "Component:  131  Size of the component:  2  coefficient:  0.0\n",
      "Component:  132  Size of the component:  2  coefficient:  0.0\n",
      "Component:  133  Size of the component:  2  coefficient:  0.0\n",
      "Component:  134  Size of the component:  2  coefficient:  0.0\n",
      "Component:  135  Size of the component:  2  coefficient:  0.0\n",
      "Component:  136  Size of the component:  1  coefficient:  0.0\n",
      "Component:  137  Size of the component:  3  coefficient:  1.0\n",
      "Component:  138  Size of the component:  2  coefficient:  0.0\n",
      "Component:  139  Size of the component:  1  coefficient:  0.0\n",
      "Component:  140  Size of the component:  2  coefficient:  0.0\n",
      "Component:  141  Size of the component:  4  coefficient:  0.5833333333333333\n",
      "Component:  142  Size of the component:  2  coefficient:  0.0\n",
      "Component:  143  Size of the component:  1  coefficient:  0.0\n",
      "Component:  144  Size of the component:  2  coefficient:  0.0\n",
      "Component:  145  Size of the component:  1  coefficient:  0.0\n"
     ]
    },
    {
     "name": "stdout",
     "output_type": "stream",
     "text": [
      "Component:  146  Size of the component:  1  coefficient:  0.0\n",
      "Component:  147  Size of the component:  1  coefficient:  0.0\n",
      "Component:  148  Size of the component:  2  coefficient:  0.0\n",
      "Component:  149  Size of the component:  2  coefficient:  0.0\n",
      "Component:  150  Size of the component:  3  coefficient:  1.0\n",
      "Component:  151  Size of the component:  2  coefficient:  0.0\n",
      "Component:  152  Size of the component:  2  coefficient:  0.0\n",
      "Component:  153  Size of the component:  4  coefficient:  1.0\n",
      "Component:  154  Size of the component:  2  coefficient:  0.0\n",
      "Component:  155  Size of the component:  1  coefficient:  0.0\n",
      "Component:  156  Size of the component:  3  coefficient:  1.0\n",
      "Component:  157  Size of the component:  4  coefficient:  0.5833333333333333\n",
      "Component:  158  Size of the component:  1  coefficient:  0.0\n",
      "Component:  159  Size of the component:  21  coefficient:  0.987218045112782\n",
      "Component:  160  Size of the component:  2  coefficient:  0.0\n",
      "Component:  161  Size of the component:  1  coefficient:  0.0\n",
      "Component:  162  Size of the component:  4  coefficient:  1.0\n",
      "Component:  163  Size of the component:  9  coefficient:  0.8952380952380952\n",
      "Component:  164  Size of the component:  2  coefficient:  0.0\n",
      "Component:  165  Size of the component:  6  coefficient:  0.0\n",
      "Component:  166  Size of the component:  2  coefficient:  0.0\n",
      "Component:  167  Size of the component:  3  coefficient:  1.0\n",
      "Component:  168  Size of the component:  4  coefficient:  1.0\n",
      "Component:  169  Size of the component:  1  coefficient:  0.0\n",
      "Component:  170  Size of the component:  1  coefficient:  0.0\n",
      "Component:  171  Size of the component:  1  coefficient:  0.0\n",
      "Component:  172  Size of the component:  1  coefficient:  0.0\n",
      "Component:  173  Size of the component:  4  coefficient:  1.0\n",
      "Component:  174  Size of the component:  1  coefficient:  0.0\n",
      "Component:  175  Size of the component:  4  coefficient:  0.5833333333333334\n",
      "Component:  176  Size of the component:  1  coefficient:  0.0\n",
      "Component:  177  Size of the component:  4  coefficient:  1.0\n",
      "Component:  178  Size of the component:  1  coefficient:  0.0\n",
      "Component:  179  Size of the component:  1  coefficient:  0.0\n",
      "Component:  180  Size of the component:  2  coefficient:  0.0\n",
      "Component:  181  Size of the component:  3  coefficient:  1.0\n",
      "Component:  182  Size of the component:  1  coefficient:  0.0\n",
      "Component:  183  Size of the component:  1  coefficient:  0.0\n",
      "Component:  184  Size of the component:  1  coefficient:  0.0\n",
      "Component:  185  Size of the component:  2  coefficient:  0.0\n",
      "Component:  186  Size of the component:  1  coefficient:  0.0\n",
      "Component:  187  Size of the component:  2  coefficient:  0.0\n",
      "Component:  188  Size of the component:  2  coefficient:  0.0\n",
      "Component:  189  Size of the component:  4  coefficient:  1.0\n",
      "Component:  190  Size of the component:  2  coefficient:  0.0\n",
      "Component:  191  Size of the component:  1  coefficient:  0.0\n",
      "Component:  192  Size of the component:  1  coefficient:  0.0\n",
      "Component:  193  Size of the component:  3  coefficient:  1.0\n",
      "Component:  194  Size of the component:  1  coefficient:  0.0\n",
      "Component:  195  Size of the component:  6  coefficient:  1.0\n",
      "Component:  196  Size of the component:  2  coefficient:  0.0\n",
      "Component:  197  Size of the component:  1  coefficient:  0.0\n",
      "Component:  198  Size of the component:  2  coefficient:  0.0\n",
      "Component:  199  Size of the component:  3  coefficient:  1.0\n",
      "Component:  200  Size of the component:  2  coefficient:  0.0\n",
      "Component:  201  Size of the component:  3  coefficient:  0.0\n",
      "Component:  202  Size of the component:  4  coefficient:  1.0\n",
      "Component:  203  Size of the component:  10  coefficient:  1.0\n",
      "Component:  204  Size of the component:  3  coefficient:  1.0\n",
      "Component:  205  Size of the component:  1  coefficient:  0.0\n",
      "Component:  206  Size of the component:  8  coefficient:  0.7916666666666666\n",
      "Component:  207  Size of the component:  4  coefficient:  1.0\n",
      "Component:  208  Size of the component:  2  coefficient:  0.0\n",
      "Component:  209  Size of the component:  3  coefficient:  1.0\n",
      "Component:  210  Size of the component:  1  coefficient:  0.0\n",
      "Component:  211  Size of the component:  3  coefficient:  1.0\n",
      "Component:  212  Size of the component:  1  coefficient:  0.0\n",
      "Component:  213  Size of the component:  1  coefficient:  0.0\n",
      "Component:  214  Size of the component:  1  coefficient:  0.0\n",
      "Component:  215  Size of the component:  6  coefficient:  0.7666666666666666\n",
      "Component:  216  Size of the component:  1  coefficient:  0.0\n",
      "Component:  217  Size of the component:  1  coefficient:  0.0\n",
      "Component:  218  Size of the component:  5  coefficient:  1.0\n",
      "Component:  219  Size of the component:  2  coefficient:  0.0\n",
      "Component:  220  Size of the component:  3  coefficient:  1.0\n",
      "Component:  221  Size of the component:  2  coefficient:  0.0\n",
      "Component:  222  Size of the component:  3  coefficient:  1.0\n",
      "Component:  223  Size of the component:  1  coefficient:  0.0\n",
      "Component:  224  Size of the component:  5  coefficient:  1.0\n",
      "Component:  225  Size of the component:  4  coefficient:  0.5833333333333333\n",
      "Component:  226  Size of the component:  3  coefficient:  1.0\n",
      "Component:  227  Size of the component:  2  coefficient:  0.0\n",
      "Component:  228  Size of the component:  3  coefficient:  1.0\n",
      "Component:  229  Size of the component:  1  coefficient:  0.0\n",
      "Component:  230  Size of the component:  2  coefficient:  0.0\n",
      "Component:  231  Size of the component:  3  coefficient:  1.0\n",
      "Component:  232  Size of the component:  1  coefficient:  0.0\n",
      "Component:  233  Size of the component:  3  coefficient:  0.0\n",
      "Component:  234  Size of the component:  1  coefficient:  0.0\n",
      "Component:  235  Size of the component:  3  coefficient:  1.0\n",
      "Component:  236  Size of the component:  4  coefficient:  0.5833333333333333\n",
      "Component:  237  Size of the component:  2  coefficient:  0.0\n",
      "Component:  238  Size of the component:  4  coefficient:  1.0\n",
      "Component:  239  Size of the component:  3  coefficient:  1.0\n",
      "Component:  240  Size of the component:  3  coefficient:  1.0\n",
      "Component:  241  Size of the component:  6  coefficient:  1.0\n",
      "Component:  242  Size of the component:  1  coefficient:  0.0\n",
      "Component:  243  Size of the component:  2  coefficient:  0.0\n",
      "Component:  244  Size of the component:  3  coefficient:  1.0\n",
      "Component:  245  Size of the component:  2  coefficient:  0.0\n",
      "Component:  246  Size of the component:  1  coefficient:  0.0\n",
      "Component:  247  Size of the component:  2  coefficient:  0.0\n",
      "Component:  248  Size of the component:  5  coefficient:  1.0\n",
      "Component:  249  Size of the component:  1  coefficient:  0.0\n",
      "Component:  250  Size of the component:  2  coefficient:  0.0\n",
      "Component:  251  Size of the component:  3  coefficient:  0.0\n",
      "Component:  252  Size of the component:  2  coefficient:  0.0\n",
      "Component:  253  Size of the component:  2  coefficient:  0.0\n",
      "Component:  254  Size of the component:  1  coefficient:  0.0\n",
      "Component:  255  Size of the component:  9  coefficient:  0.8214285714285714\n",
      "Component:  256  Size of the component:  1  coefficient:  0.0\n",
      "Component:  257  Size of the component:  1  coefficient:  0.0\n",
      "Component:  258  Size of the component:  2  coefficient:  0.0\n",
      "Component:  259  Size of the component:  2  coefficient:  0.0\n",
      "Component:  260  Size of the component:  4  coefficient:  0.5833333333333333\n",
      "Component:  261  Size of the component:  3  coefficient:  1.0\n",
      "Component:  262  Size of the component:  1  coefficient:  0.0\n",
      "Component:  263  Size of the component:  2  coefficient:  0.0\n",
      "Component:  264  Size of the component:  5  coefficient:  0.7\n",
      "Component:  265  Size of the component:  1  coefficient:  0.0\n",
      "Component:  266  Size of the component:  11  coefficient:  0.890909090909091\n",
      "Component:  267  Size of the component:  1  coefficient:  0.0\n",
      "Component:  268  Size of the component:  1  coefficient:  0.0\n",
      "Component:  269  Size of the component:  1  coefficient:  0.0\n",
      "Component:  270  Size of the component:  2  coefficient:  0.0\n",
      "Component:  271  Size of the component:  1  coefficient:  0.0\n",
      "Component:  272  Size of the component:  1  coefficient:  0.0\n",
      "Component:  273  Size of the component:  1  coefficient:  0.0\n",
      "Component:  274  Size of the component:  4  coefficient:  1.0\n",
      "Component:  275  Size of the component:  3  coefficient:  1.0\n",
      "Component:  276  Size of the component:  1  coefficient:  0.0\n",
      "Component:  277  Size of the component:  3  coefficient:  1.0\n",
      "Component:  278  Size of the component:  1  coefficient:  0.0\n",
      "Component:  279  Size of the component:  2  coefficient:  0.0\n",
      "Component:  280  Size of the component:  8  coefficient:  0.9285714285714286\n",
      "Component:  281  Size of the component:  1  coefficient:  0.0\n",
      "Component:  282  Size of the component:  2  coefficient:  0.0\n",
      "Component:  283  Size of the component:  2  coefficient:  0.0\n",
      "Component:  284  Size of the component:  2  coefficient:  0.0\n",
      "Component:  285  Size of the component:  2  coefficient:  0.0\n",
      "Component:  286  Size of the component:  4  coefficient:  0.5833333333333334\n",
      "Component:  287  Size of the component:  1  coefficient:  0.0\n",
      "Component:  288  Size of the component:  1  coefficient:  0.0\n",
      "Component:  289  Size of the component:  5  coefficient:  1.0\n",
      "Component:  290  Size of the component:  1  coefficient:  0.0\n",
      "Component:  291  Size of the component:  9  coefficient:  1.0\n",
      "Component:  292  Size of the component:  1  coefficient:  0.0\n",
      "Component:  293  Size of the component:  2  coefficient:  0.0\n",
      "Component:  294  Size of the component:  2  coefficient:  0.0\n",
      "Component:  295  Size of the component:  1  coefficient:  0.0\n",
      "Component:  296  Size of the component:  1  coefficient:  0.0\n",
      "Component:  297  Size of the component:  1  coefficient:  0.0\n",
      "Component:  298  Size of the component:  1  coefficient:  0.0\n",
      "Component:  299  Size of the component:  1  coefficient:  0.0\n",
      "Component:  300  Size of the component:  3  coefficient:  1.0\n",
      "Component:  301  Size of the component:  1  coefficient:  0.0\n",
      "Component:  302  Size of the component:  1  coefficient:  0.0\n",
      "Component:  303  Size of the component:  1  coefficient:  0.0\n",
      "Component:  304  Size of the component:  2  coefficient:  0.0\n",
      "Component:  305  Size of the component:  3  coefficient:  1.0\n",
      "Component:  306  Size of the component:  4  coefficient:  1.0\n",
      "Component:  307  Size of the component:  1  coefficient:  0.0\n",
      "Component:  308  Size of the component:  2  coefficient:  0.0\n",
      "Component:  309  Size of the component:  1  coefficient:  0.0\n",
      "Component:  310  Size of the component:  3  coefficient:  1.0\n",
      "Component:  311  Size of the component:  4  coefficient:  0.0\n"
     ]
    },
    {
     "name": "stdout",
     "output_type": "stream",
     "text": [
      "Component:  312  Size of the component:  2  coefficient:  0.0\n",
      "Component:  313  Size of the component:  2  coefficient:  0.0\n",
      "Component:  314  Size of the component:  2  coefficient:  0.0\n",
      "Component:  315  Size of the component:  2  coefficient:  0.0\n",
      "Component:  316  Size of the component:  2  coefficient:  0.0\n",
      "Component:  317  Size of the component:  3  coefficient:  1.0\n",
      "Component:  318  Size of the component:  2  coefficient:  0.0\n",
      "Component:  319  Size of the component:  3  coefficient:  1.0\n",
      "Component:  320  Size of the component:  4  coefficient:  1.0\n",
      "Component:  321  Size of the component:  1  coefficient:  0.0\n",
      "Component:  322  Size of the component:  1  coefficient:  0.0\n",
      "Component:  323  Size of the component:  1  coefficient:  0.0\n",
      "Component:  324  Size of the component:  1  coefficient:  0.0\n",
      "Component:  325  Size of the component:  9  coefficient:  0.9365079365079365\n",
      "Component:  326  Size of the component:  1  coefficient:  0.0\n",
      "Component:  327  Size of the component:  5  coefficient:  0.8666666666666666\n",
      "Component:  328  Size of the component:  1  coefficient:  0.0\n",
      "Component:  329  Size of the component:  1  coefficient:  0.0\n",
      "Component:  330  Size of the component:  2  coefficient:  0.0\n",
      "Component:  331  Size of the component:  1  coefficient:  0.0\n",
      "Component:  332  Size of the component:  1  coefficient:  0.0\n",
      "Component:  333  Size of the component:  1  coefficient:  0.0\n",
      "Component:  334  Size of the component:  2  coefficient:  0.0\n",
      "Component:  335  Size of the component:  1  coefficient:  0.0\n",
      "Component:  336  Size of the component:  1  coefficient:  0.0\n",
      "Component:  337  Size of the component:  2  coefficient:  0.0\n",
      "Component:  338  Size of the component:  3  coefficient:  1.0\n",
      "Component:  339  Size of the component:  2  coefficient:  0.0\n",
      "Component:  340  Size of the component:  2  coefficient:  0.0\n",
      "Component:  341  Size of the component:  1  coefficient:  0.0\n",
      "Component:  342  Size of the component:  3  coefficient:  1.0\n",
      "Component:  343  Size of the component:  1  coefficient:  0.0\n",
      "Component:  344  Size of the component:  5  coefficient:  0.7\n",
      "Component:  345  Size of the component:  1  coefficient:  0.0\n",
      "Component:  346  Size of the component:  1  coefficient:  0.0\n",
      "Component:  347  Size of the component:  2  coefficient:  0.0\n",
      "Component:  348  Size of the component:  2  coefficient:  0.0\n",
      "Component:  349  Size of the component:  2  coefficient:  0.0\n",
      "Component:  350  Size of the component:  2  coefficient:  0.0\n",
      "Component:  351  Size of the component:  3  coefficient:  1.0\n",
      "Component:  352  Size of the component:  1  coefficient:  0.0\n",
      "Component:  353  Size of the component:  1  coefficient:  0.0\n",
      "Component:  354  Size of the component:  1  coefficient:  0.0\n",
      "Component:  355  Size of the component:  1  coefficient:  0.0\n",
      "Component:  356  Size of the component:  2  coefficient:  0.0\n",
      "Component:  357  Size of the component:  1  coefficient:  0.0\n",
      "Component:  358  Size of the component:  3  coefficient:  1.0\n",
      "Component:  359  Size of the component:  1  coefficient:  0.0\n",
      "Component:  360  Size of the component:  5  coefficient:  1.0\n",
      "Component:  361  Size of the component:  4  coefficient:  1.0\n",
      "Component:  362  Size of the component:  3  coefficient:  1.0\n",
      "Component:  363  Size of the component:  2  coefficient:  0.0\n",
      "Component:  364  Size of the component:  4  coefficient:  1.0\n",
      "Component:  365  Size of the component:  1  coefficient:  0.0\n",
      "Component:  366  Size of the component:  1  coefficient:  0.0\n",
      "Component:  367  Size of the component:  3  coefficient:  1.0\n",
      "Component:  368  Size of the component:  3  coefficient:  1.0\n",
      "Component:  369  Size of the component:  2  coefficient:  0.0\n",
      "Component:  370  Size of the component:  3  coefficient:  1.0\n",
      "Component:  371  Size of the component:  2  coefficient:  0.0\n",
      "Component:  372  Size of the component:  1  coefficient:  0.0\n",
      "Component:  373  Size of the component:  7  coefficient:  0.6\n",
      "Component:  374  Size of the component:  2  coefficient:  0.0\n",
      "Component:  375  Size of the component:  1  coefficient:  0.0\n",
      "Component:  376  Size of the component:  1  coefficient:  0.0\n",
      "Component:  377  Size of the component:  3  coefficient:  1.0\n",
      "Component:  378  Size of the component:  1  coefficient:  0.0\n",
      "Component:  379  Size of the component:  2  coefficient:  0.0\n",
      "Component:  380  Size of the component:  1  coefficient:  0.0\n",
      "Component:  381  Size of the component:  2  coefficient:  0.0\n",
      "Component:  382  Size of the component:  1  coefficient:  0.0\n",
      "Component:  383  Size of the component:  1  coefficient:  0.0\n",
      "Component:  384  Size of the component:  2  coefficient:  0.0\n",
      "Component:  385  Size of the component:  3  coefficient:  1.0\n",
      "Component:  386  Size of the component:  2  coefficient:  0.0\n",
      "Component:  387  Size of the component:  4  coefficient:  1.0\n",
      "Component:  388  Size of the component:  1  coefficient:  0.0\n",
      "Component:  389  Size of the component:  1  coefficient:  0.0\n",
      "Component:  390  Size of the component:  2  coefficient:  0.0\n",
      "Component:  391  Size of the component:  4  coefficient:  1.0\n",
      "Component:  392  Size of the component:  2  coefficient:  0.0\n",
      "Component:  393  Size of the component:  1  coefficient:  0.0\n",
      "Component:  394  Size of the component:  2  coefficient:  0.0\n",
      "Component:  395  Size of the component:  3  coefficient:  0.0\n"
     ]
    }
   ],
   "source": [
    "overallAverage = []\n",
    "for i in range(0, countComp):\n",
    "    clustCoeff = nx.clustering( componentGraphs[i])\n",
    "    coeffVals = list(clustCoeff.values())\n",
    "    overallAverage.append(np.average(coeffVals))\n",
    "    print (\"Component: \", i, \" Size of the component: \", len(componentGraphs[i].nodes()),  \" coefficient: \", np.average(coeffVals))"
   ]
  },
  {
   "cell_type": "markdown",
   "metadata": {},
   "source": [
    "Can we see the average clustering coefficient of the network?"
   ]
  },
  {
   "cell_type": "code",
   "execution_count": 106,
   "metadata": {},
   "outputs": [
    {
     "name": "stdout",
     "output_type": "stream",
     "text": [
      "Average clustering coefficent is:  0.3550125098071741\n"
     ]
    }
   ],
   "source": [
    "print (\"Average clustering coefficent is: \", np.average(overallAverage))"
   ]
  },
  {
   "cell_type": "markdown",
   "metadata": {},
   "source": [
    "Component 4 with a coefficient of 0.9872 and a size of 21 draws our attention. Let's take a closer look at this!"
   ]
  },
  {
   "cell_type": "code",
   "execution_count": 107,
   "metadata": {},
   "outputs": [
    {
     "data": {
      "image/png": "[encoded data removed]",
      "text/plain": [
       "<Figure size 432x288 with 1 Axes>"
      ]
     },
     "metadata": {},
     "output_type": "display_data"
    }
   ],
   "source": [
    "plt.figure(3)\n",
    "position = nx.spring_layout(componentGraphs[4])\n",
    "nx.draw(componentGraphs[4],pos=position)\n",
    "nx.draw_networkx_labels(componentGraphs[4],pos=position)\n",
    "plt.draw() "
   ]
  },
  {
   "cell_type": "markdown",
   "metadata": {},
   "source": [
    "### Conclusion\n",
    "\n",
    "From this project, we have taken a quick look at graphs/networks. We have seen how they are structured and visualised, and how they can be quantitatively analysed.\n",
    "\n",
    "The centrality of graphs has been studied, and we have been able to find the key entities within a network.\n",
    "\n",
    "But why is this important?\n",
    "There are several applications for this type of analysis in real life. For example, rail companies could use it to find what the most crucial train stations are in a network, and use this information to make sure they dont fail in bad conditions. Also, police could use information of members of a crime network to find out who are the key links in a gang. \n",
    "\n",
    "Network analysis can be extremely vauable in data science, and it is important to have an understanding of how and when to use them."
   ]
  }
 ],
 "metadata": {
  "kernelspec": {
   "display_name": "Python 3",
   "language": "python",
   "name": "python3"
  },
  "language_info": {
   "codemirror_mode": {
    "name": "ipython",
    "version": 3
   },
   "file_extension": ".py",
   "mimetype": "text/x-python",
   "name": "python",
   "nbconvert_exporter": "python",
   "pygments_lexer": "ipython3",
   "version": "3.7.1"
  }
 },
 "nbformat": 4,
 "nbformat_minor": 2
}
